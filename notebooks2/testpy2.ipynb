{
 "cells": [
  {
   "cell_type": "code",
   "execution_count": 1,
   "metadata": {},
   "outputs": [
    {
     "data": {
      "text/plain": [
       "'this is a python2 test'"
      ]
     },
     "execution_count": 1,
     "metadata": {},
     "output_type": "execute_result"
    }
   ],
   "source": [
    "\"this is a python2 test\""
   ]
  },
  {
   "cell_type": "code",
   "execution_count": 2,
   "metadata": {},
   "outputs": [
    {
     "name": "stdout",
     "output_type": "stream",
     "text": [
      "/home/builder/.conda/envs/py2/bin/python\n"
     ]
    }
   ],
   "source": [
    "import sys\n",
    "print(sys.executable)"
   ]
  },
  {
   "cell_type": "code",
   "execution_count": 4,
   "metadata": {},
   "outputs": [
    {
     "name": "stdout",
     "output_type": "stream",
     "text": [
      "BUILD_NUMBER=\r\n",
      "CLICOLOR=1\r\n",
      "CONDA_DEFAULT_ENV=py2\r\n",
      "CONDA_EXE=/opt/conda/bin/conda\r\n",
      "CONDA_PREFIX=/home/builder/.conda/envs/py2\r\n",
      "CONDA_PROMPT_MODIFIER=(py2) \r\n",
      "CONDA_PYTHON_EXE=/opt/conda/bin/python\r\n",
      "CONDA_SHLVL=1\r\n",
      "GIT_PAGER=cat\r\n",
      "HOME=/home/builder\r\n",
      "HOSTNAME=e3a97a0e4f9f\r\n",
      "JPY_PARENT_PID=40\r\n",
      "LANG=C.UTF-8\r\n",
      "LC_ALL=C.UTF-8\r\n",
      "MAKEFLAGS=\r\n",
      "MAKELEVEL=1\r\n",
      "MAKE_TERMERR=/dev/pts/0\r\n",
      "MAKE_TERMOUT=/dev/pts/0\r\n",
      "MFLAGS=\r\n",
      "MPLBACKEND=module://ipykernel.pylab.backend_inline\r\n",
      "NB_GID=20\r\n",
      "NB_UID=501\r\n",
      "OLDPWD=/\r\n",
      "PAGER=cat\r\n",
      "PATH=/home/builder/.conda/envs/py2/bin:/opt/conda/condabin:/opt/conda/bin:/opt/conda/bin:/usr/local/sbin:/usr/local/bin:/usr/sbin:/usr/bin:/sbin:/bin\r\n",
      "PWD=/notebooks\r\n",
      "PY_VERSION=2\r\n",
      "SHLVL=1\r\n",
      "TERM=xterm-color\r\n",
      "_=/usr/bin/make\r\n",
      "_CE_CONDA=\r\n",
      "_CE_M=\r\n"
     ]
    }
   ],
   "source": [
    "!env|sort"
   ]
  }
 ],
 "metadata": {
  "kernelspec": {
   "display_name": "Python 2",
   "language": "python",
   "name": "python2"
  },
  "language_info": {
   "codemirror_mode": {
    "name": "ipython",
    "version": 2
   },
   "file_extension": ".py",
   "mimetype": "text/x-python",
   "name": "python",
   "nbconvert_exporter": "python",
   "pygments_lexer": "ipython2",
   "version": "2.7.15"
  },
  "rsconnect": {
   "previousServerId": "0429a5dd82d469d3919eebe1f193dd85",
   "servers": {
    "0429a5dd82d469d3919eebe1f193dd85": {
     "appId": 238,
     "appMode": "jupyter-static",
     "configUrl": "http://mike-rstudio.local:3939/connect/#/apps/238",
     "notebookTitle": "env11",
     "server": "http://mike-rstudio.local:3939/",
     "serverName": "local"
    }
   },
   "version": 1
  }
 },
 "nbformat": 4,
 "nbformat_minor": 2
}
