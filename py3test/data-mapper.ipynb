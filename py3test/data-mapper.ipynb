{
 "cells": [
  {
   "cell_type": "code",
   "execution_count": 1,
   "metadata": {},
   "outputs": [
    {
     "name": "stdout",
     "output_type": "stream",
     "text": [
      "kevin\n"
     ]
    }
   ],
   "source": [
    "import data_mapper\n",
    "print('kevin-update')"
   ]
  },
  {
   "cell_type": "code",
   "execution_count": null,
   "metadata": {},
   "outputs": [],
   "source": []
  }
 ],
 "metadata": {
  "kernelspec": {
   "display_name": "Python 3",
   "language": "python",
   "name": "python3"
  },
  "language_info": {
   "codemirror_mode": {
    "name": "ipython",
    "version": 3
   },
   "file_extension": ".py",
   "mimetype": "text/x-python",
   "name": "python",
   "nbconvert_exporter": "python",
   "pygments_lexer": "ipython3",
   "version": "3.5.6"
  },
  "rsconnect": {
   "previousServerId": "88bb0c13d34734b4da33b237398f7cf7",
   "servers": {
    "6103f02cc74041c27403ae451954fe79": {
     "disableTLSCheck": false,
     "server": "https://rsc.radixu.com/",
     "serverName": "dogfood"
    },
    "83e93c4878a0b87a99b81184875ee12b": {
     "disableTLSCheck": false,
     "server": "http://192.168.51.51:3939/",
     "serverName": "ub16"
    },
    "88bb0c13d34734b4da33b237398f7cf7": {
     "appId": 145,
     "appMode": "jupyter-static",
     "configUrl": "http://localhost:3939/connect/#/apps/145",
     "disableTLSCheck": false,
     "notebookTitle": "data-mapper-numpy-install",
     "server": "http://localhost:3939/",
     "serverName": "local"
    },
    "e6e70ea1c6270563665acc4c62f67ed7": {
     "disableTLSCheck": true,
     "server": "https://localhost:3443/",
     "serverName": "localie"
    }
   },
   "version": 1
  }
 },
 "nbformat": 4,
 "nbformat_minor": 2
}
