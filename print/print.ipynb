{
 "cells": [
  {
   "cell_type": "code",
   "execution_count": null,
   "metadata": {},
   "outputs": [],
   "source": [
    "print(\"kevin\")"
   ]
  }
 ],
 "metadata": {
  "kernelspec": {
   "display_name": "Python 3",
   "language": "python",
   "name": "python3"
  },
  "language_info": {
   "codemirror_mode": {
    "name": "ipython",
    "version": 3
   },
   "file_extension": ".py",
   "mimetype": "text/x-python",
   "name": "python",
   "nbconvert_exporter": "python",
   "pygments_lexer": "ipython3",
   "version": "3.5.6"
  },
  "rsconnect": {
   "previousServerId": "e6e70ea1c6270563665acc4c62f67ed7",
   "servers": {
    "6103f02cc74041c27403ae451954fe79": {
     "disableTLSCheck": false,
     "server": "https://rsc.radixu.com/",
     "serverName": "dogfood"
    },
    "83e93c4878a0b87a99b81184875ee12b": {
     "disableTLSCheck": false,
     "server": "http://192.168.51.51:3939/",
     "serverName": "ub16"
    },
    "e6e70ea1c6270563665acc4c62f67ed7": {
     "appId": 104,
     "appMode": "jupyter-static",
     "configUrl": "https://localhost:3443/connect/#/apps/104",
     "disableTLSCheck": true,
     "notebookTitle": "print",
     "server": "https://localhost:3443/",
     "serverName": "localie"
    }
   },
   "version": 1
  }
 },
 "nbformat": 4,
 "nbformat_minor": 2
}
