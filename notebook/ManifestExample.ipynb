{
 "cells": [
  {
   "cell_type": "code",
   "execution_count": 5,
   "metadata": {},
   "outputs": [],
   "source": [
    "notebook_filename = \"MyNotebook.ipynb\"\n",
    "\n",
    "import rsconnect_jupyter\n",
    "import rsconnect_jupyter.environment\n",
    "import json\n",
    "\n",
    "environment = rsconnect_jupyter.environment.detect_environment()\n",
    "manifest = rsconnect_jupyter.bundle.make_source_manifest(notebook_filename, environment, 'jupyter-static')\n",
    "manifest_json = json.dumps(manifest, indent=2)\n",
    "with open(\"manifest.json\", \"w\") as f:\n",
    "    f.write(manifest_json)\n"
   ]
  },
  {
   "cell_type": "code",
   "execution_count": 6,
   "metadata": {},
   "outputs": [],
   "source": [
    "!python -m pip freeze > requirements.txt"
   ]
  },
  {
   "cell_type": "code",
   "execution_count": null,
   "metadata": {},
   "outputs": [],
   "source": []
  }
 ],
 "metadata": {
  "kernelspec": {
   "display_name": "Python 3",
   "language": "python",
   "name": "python3"
  },
  "language_info": {
   "codemirror_mode": {
    "name": "ipython",
    "version": 3
   },
   "file_extension": ".py",
   "mimetype": "text/x-python",
   "name": "python",
   "nbconvert_exporter": "python",
   "pygments_lexer": "ipython3",
   "version": "3.7.0"
  }
 },
 "nbformat": 4,
 "nbformat_minor": 2
}
