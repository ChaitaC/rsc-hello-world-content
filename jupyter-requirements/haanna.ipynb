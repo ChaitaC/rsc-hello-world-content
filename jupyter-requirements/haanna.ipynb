{
 "cells": [
  {
   "cell_type": "code",
   "execution_count": 1,
   "metadata": {},
   "outputs": [],
   "source": [
    "import haanna"
   ]
  },
  {
   "cell_type": "code",
   "execution_count": null,
   "metadata": {},
   "outputs": [],
   "source": [
    "print('haanna test')"
   ]
  }
 ],
 "metadata": {
  "kernelspec": {
   "display_name": "Python 2",
   "language": "python",
   "name": "python2"
  },
  "language_info": {
   "codemirror_mode": {
    "name": "ipython",
    "version": 2
   },
   "file_extension": ".py",
   "mimetype": "text/x-python",
   "name": "python",
   "nbconvert_exporter": "python",
   "pygments_lexer": "ipython2",
   "version": "2.7.16"
  },
  "rsconnect": {
   "previousServerId": "6103f02cc74041c27403ae451954fe79",
   "servers": {
    "6103f02cc74041c27403ae451954fe79": {
     "appId": 3600,
     "appMode": "jupyter-static",
     "configUrl": "https://rsc.radixu.com/connect/#/apps/3600",
     "disableTLSCheck": false,
     "notebookTitle": "haanna",
     "server": "https://rsc.radixu.com/",
     "serverName": "dogfood"
    },
    "e6e70ea1c6270563665acc4c62f67ed7": {
     "disableTLSCheck": true,
     "server": "https://localhost:3443/",
     "serverName": "localie"
    }
   },
   "version": 1
  }
 },
 "nbformat": 4,
 "nbformat_minor": 2
}
